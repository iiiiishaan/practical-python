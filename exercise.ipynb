{
  "nbformat": 4,
  "nbformat_minor": 0,
  "metadata": {
    "colab": {
      "provenance": [],
      "authorship_tag": "ABX9TyPIH0zFpf0rm61Gu2tM9K8S",
      "include_colab_link": true
    },
    "kernelspec": {
      "name": "python3",
      "display_name": "Python 3"
    },
    "language_info": {
      "name": "python"
    }
  },
  "cells": [
    {
      "cell_type": "markdown",
      "metadata": {
        "id": "view-in-github",
        "colab_type": "text"
      },
      "source": [
        "<a href=\"https://colab.research.google.com/github/iiiiishaan/practical-python/blob/master/exercise.ipynb\" target=\"_parent\"><img src=\"https://colab.research.google.com/assets/colab-badge.svg\" alt=\"Open In Colab\"/></a>"
      ]
    },
    {
      "cell_type": "code",
      "execution_count": 4,
      "metadata": {
        "id": "asXvrWBOalOU"
      },
      "outputs": [],
      "source": [
        "import numpy as np\n",
        "import matplotlib.pylab as plt"
      ]
    },
    {
      "cell_type": "code",
      "source": [
        "np.random.seed(98)\n",
        "x_values = np.random.rand(2,1)\n",
        "y_values = 2*x_values + 1\n",
        "\n",
        "w = np.random.rand()\n",
        "b = np.random.rand()\n",
        "\n",
        "lr = 0.01\n",
        "\n",
        "\n",
        "def forward(x):\n",
        "  return  w*x + b\n",
        "\n",
        "def costloss(y_true, y_hat):\n",
        "  return 1/2 * np.mean((y_true - y_hat)**2)\n",
        "\n",
        "num_epoch = 1001\n",
        "losses = []\n",
        "\n",
        "for epoch in range(num_epoch):\n",
        "  y_hat = forward(x_values)\n",
        "\n",
        "  loss = costloss(y_values,y_hat)\n",
        "  losses.append(loss)\n",
        "\n",
        "  dw = (1/len(x_values)*np.sum(y_hat - y_values)*x_values)\n",
        "  db = (1/len(x_values)*np.sum(y_hat - y_values))\n",
        "\n",
        "  w -= lr*dw\n",
        "  b -= lr*db\n",
        "\n",
        "  if epoch%100 == 0:\n",
        "    print(f'epoch{epoch} , loss{loss:.4f}' )\n",
        "\n",
        "print('=================================')\n",
        "print(f'weight{w.flatten()[0]:.4f}, bias{b.flatten()[0]:.4f}')\n",
        "print('=================================')\n",
        "\n"
      ],
      "metadata": {
        "id": "uRLco0obbFma",
        "colab": {
          "base_uri": "https://localhost:8080/"
        },
        "outputId": "fc59abdc-1d10-4e84-bdf4-69f1fc01dee7"
      },
      "execution_count": 18,
      "outputs": [
        {
          "output_type": "stream",
          "name": "stdout",
          "text": [
            "epoch0 , loss0.8852\n",
            "epoch100 , loss0.0513\n",
            "epoch200 , loss0.0038\n",
            "epoch300 , loss0.0010\n",
            "epoch400 , loss0.0009\n",
            "epoch500 , loss0.0008\n",
            "epoch600 , loss0.0008\n",
            "epoch700 , loss0.0008\n",
            "epoch800 , loss0.0008\n",
            "epoch900 , loss0.0008\n",
            "epoch1000 , loss0.0008\n",
            "=================================\n",
            "weight0.9793, bias1.7065\n",
            "=================================\n"
          ]
        }
      ]
    }
  ]
}